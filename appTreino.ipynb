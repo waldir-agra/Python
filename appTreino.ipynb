{
  "nbformat": 4,
  "nbformat_minor": 0,
  "metadata": {
    "colab": {
      "provenance": [],
      "authorship_tag": "ABX9TyOxqc5bdmw7zdxXE49xaURD",
      "include_colab_link": true
    },
    "kernelspec": {
      "name": "python3",
      "display_name": "Python 3"
    },
    "language_info": {
      "name": "python"
    }
  },
  "cells": [
    {
      "cell_type": "markdown",
      "metadata": {
        "id": "view-in-github",
        "colab_type": "text"
      },
      "source": [
        "<a href=\"https://colab.research.google.com/github/waldir-agra/Python/blob/main/appTreino.ipynb\" target=\"_parent\"><img src=\"https://colab.research.google.com/assets/colab-badge.svg\" alt=\"Open In Colab\"/></a>"
      ]
    },
    {
      "cell_type": "code",
      "execution_count": null,
      "metadata": {
        "id": "-VPsqs9Zglgo"
      },
      "outputs": [],
      "source": []
    },
    {
      "cell_type": "markdown",
      "source": [
        "```\n",
        "\n",
        "1. `class Corrida:`: Aqui estamos definindo uma classe chamada `Corrida`, que será usada para representar uma corrida individual.\n",
        "2. `def __init__(self, data, distancia, tempo):`: Este é o método de inicialização da classe `Corrida`, que é chamado quando criamos uma nova instância da classe. Ele recebe três parâmetros obrigatórios: `data`, `distancia` e `tempo`.\n",
        "3. `self.data = data`: Aqui estamos atribuindo o valor do parâmetro `data` ao atributo `data` da instância.\n",
        "4. `self.distancia = distancia`: Similarmente, estamos atribuindo o valor do parâmetro `distancia` ao atributo `distancia` da instância.\n",
        "5. `self.tempo = tempo`: Mais uma vez, atribuímos o valor do parâmetro `tempo` ao atributo `tempo` da instância.\n",
        "\n",
        "```python"
      ],
      "metadata": {
        "id": "FhTWh3xjg0yf"
      }
    },
    {
      "cell_type": "code",
      "source": [
        "class Corrida:\n",
        "    def __init__(self, data, distancia, tempo):\n",
        "        self.data = data\n",
        "        self.distancia = distancia\n",
        "        self.tempo = tempo\n",
        "\n",
        "class AppTreino:\n",
        "    def __init__(self):\n",
        "        self.corridas = []\n",
        "\n",
        "    def adicionar_corrida(self, corrida):\n",
        "        self.corridas.append(corrida)\n",
        "\n",
        "    def mostrar_corridas(self):\n",
        "        for i, corrida in enumerate(self.corridas):\n",
        "            print(f\"Corrida {i+1}:\")\n",
        "            print(f\"Data: {corrida.data}\")\n",
        "            print(f\"Distância: {corrida.distancia} km\")\n",
        "            print(f\"Tempo: {corrida.tempo} minutos\")\n",
        "            print()\n",
        "\n",
        "    def menu(self):\n",
        "        while True:\n",
        "            print(\"1. Registrar corrida\")\n",
        "            print(\"2. Mostrar corridas registradas\")\n",
        "            print(\"3. Sair\")\n",
        "            escolha = input(\"Escolha uma opção: \")\n",
        "\n",
        "            if escolha == '1':\n",
        "                data = input(\"Digite a data da corrida: \")\n",
        "                distancia = float(input(\"Digite a distância percorrida (em km): \"))\n",
        "                tempo = float(input(\"Digite o tempo da corrida (em minutos): \"))\n",
        "                corrida = Corrida(data, distancia, tempo)\n",
        "                self.adicionar_corrida(corrida)\n",
        "                print(\"Corrida registrada com sucesso!\\n\")\n",
        "            elif escolha == '2':\n",
        "                if self.corridas:\n",
        "                    print(\"Corridas registradas:\")\n",
        "                    self.mostrar_corridas()\n",
        "                else:\n",
        "                    print(\"Nenhuma corrida registrada.\\n\")\n",
        "            elif escolha == '3':\n",
        "                print(\"Saindo do aplicativo...\")\n",
        "                break\n",
        "            else:\n",
        "                print(\"Opção inválida. Por favor, escolha uma opção válida.\\n\")\n",
        "\n",
        "if __name__ == \"__main__\":\n",
        "    app = AppTreino()\n",
        "    app.menu()\n",
        "\n"
      ],
      "metadata": {
        "colab": {
          "base_uri": "https://localhost:8080/"
        },
        "id": "ArFC4vsNgnN-",
        "outputId": "ae935cb0-c4b9-4002-c21e-aedc1c3746c9"
      },
      "execution_count": null,
      "outputs": [
        {
          "output_type": "stream",
          "name": "stdout",
          "text": [
            "1. Registrar corrida\n",
            "2. Mostrar corridas registradas\n",
            "3. Sair\n",
            "Escolha uma opção: 1\n",
            "Digite a data da corrida: 22112024\n",
            "Digite a distância percorrida (em km): 10\n",
            "Digite o tempo da corrida (em minutos): 2\n",
            "Corrida registrada com sucesso!\n",
            "\n",
            "1. Registrar corrida\n",
            "2. Mostrar corridas registradas\n",
            "3. Sair\n",
            "Escolha uma opção: 2\n",
            "Corridas registradas:\n",
            "Corrida 1:\n",
            "Data: 22112024\n",
            "Distância: 10.0 km\n",
            "Tempo: 2.0 minutos\n",
            "\n",
            "1. Registrar corrida\n",
            "2. Mostrar corridas registradas\n",
            "3. Sair\n"
          ]
        }
      ]
    },
    {
      "cell_type": "markdown",
      "source": [],
      "metadata": {
        "id": "aL5GYoflgyhG"
      }
    },
    {
      "cell_type": "markdown",
      "source": [
        "\n",
        "1. `class AppTreino:`: Aqui definimos outra classe chamada `AppTreino`, que será responsável por gerenciar todas as corridas.\n",
        "2. `def __init__(self):`: O método de inicialização da classe `AppTreino` inicializa a lista `corridas`, que será usada para armazenar as corridas registradas.\n",
        "3. `def adicionar_corrida(self, corrida):`: Este método permite adicionar uma nova corrida à lista de corridas registradas.\n",
        "4. `def mostrar_corridas(self):`: Este método exibe todas as corridas registradas na lista `corridas`.\n",
        "5. `def menu(self):`: Este método exibe um menu para o usuário interagir com o aplicativo.\n",
        "6. `while True:`: Iniciamos um loop infinito para que o menu seja exibido repetidamente até que o usuário escolha sair.\n",
        "7. `if escolha == '1':`, `elif escolha == '2':`, `elif escolha == '3':`, `else:`: Aqui estamos verificando a escolha do usuário e executando a ação apropriada com base nessa escolha.\n",
        "8. `if __name__ == \"__main__\":`: Esta condição garante que o código dentro dela só será executado se este script for executado diretamente, não se for importado como um módulo em outro script.\n",
        "9. `app = AppTreino()`: Criamos uma instância da classe `AppTreino`.\n",
        "10. `app.menu()`: Chamamos o método `menu()` para iniciar o aplicativo."
      ],
      "metadata": {
        "id": "gmbDYymBgr24"
      }
    }
  ]
}