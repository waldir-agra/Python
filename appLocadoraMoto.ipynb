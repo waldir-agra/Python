{
  "nbformat": 4,
  "nbformat_minor": 0,
  "metadata": {
    "colab": {
      "provenance": [],
      "authorship_tag": "ABX9TyPr9JMtBKL3gfZuB3p/QPYz",
      "include_colab_link": true
    },
    "kernelspec": {
      "name": "python3",
      "display_name": "Python 3"
    },
    "language_info": {
      "name": "python"
    }
  },
  "cells": [
    {
      "cell_type": "markdown",
      "metadata": {
        "id": "view-in-github",
        "colab_type": "text"
      },
      "source": [
        "<a href=\"https://colab.research.google.com/github/waldir-agra/Python/blob/main/appLocadoraMoto.ipynb\" target=\"_parent\"><img src=\"https://colab.research.google.com/assets/colab-badge.svg\" alt=\"Open In Colab\"/></a>"
      ]
    },
    {
      "cell_type": "code",
      "source": [
        "import sqlite3\n",
        "\n",
        "class LocadoraMotos:\n",
        "    def __init__(self, db_name):\n",
        "        self.conn = sqlite3.connect(db_name)\n",
        "        self.c = self.conn.cursor()\n",
        "        self._create_table()\n",
        "\n",
        "    def _create_table(self):\n",
        "        self.c.execute('''CREATE TABLE IF NOT EXISTS motos (\n",
        "                            id INTEGER PRIMARY KEY,\n",
        "                            marca TEXT,\n",
        "                            modelo TEXT,\n",
        "                            ano INTEGER,\n",
        "                            alugada INTEGER\n",
        "                            )''')\n",
        "        self.conn.commit()\n",
        "\n",
        "    def adicionar_moto(self, marca, modelo, ano):\n",
        "        self.c.execute('''INSERT INTO motos (marca, modelo, ano, alugada)\n",
        "                          VALUES (?, ?, ?, ?)''', (marca, modelo, ano, 0))\n",
        "        self.conn.commit()\n",
        "\n",
        "    def mostrar_motos_disponiveis(self):\n",
        "        self.c.execute('''SELECT * FROM motos WHERE alugada = 0''')\n",
        "        motos = self.c.fetchall()\n",
        "        print(\"Motos disponíveis para aluguel:\")\n",
        "        for moto in motos:\n",
        "            print(f\"ID: {moto[0]}, Marca: {moto[1]}, Modelo: {moto[2]}, Ano: {moto[3]}\")\n",
        "\n",
        "    def alugar_moto(self, id):\n",
        "        self.c.execute('''UPDATE motos SET alugada = 1 WHERE id = ? AND alugada = 0''', (id,))\n",
        "        if self.c.rowcount == 1:\n",
        "            print(\"Moto alugada com sucesso!\")\n",
        "        else:\n",
        "            print(\"Desculpe, essa moto não está disponível para aluguel ou não existe.\")\n",
        "        self.conn.commit()\n",
        "\n",
        "    def verificar_motos_alugadas(self):\n",
        "        self.c.execute('''SELECT * FROM motos WHERE alugada = 1''')\n",
        "        motos = self.c.fetchall()\n",
        "        print(\"Motos alugadas:\")\n",
        "        for moto in motos:\n",
        "            print(f\"ID: {moto[0]}, Marca: {moto[1]}, Modelo: {moto[2]}, Ano: {moto[3]}\")\n",
        "\n",
        "    def devolver_moto(self, id):\n",
        "        self.c.execute('''UPDATE motos SET alugada = 0 WHERE id = ? AND alugada = 1''', (id,))\n",
        "        if self.c.rowcount == 1:\n",
        "            print(\"Moto devolvida com sucesso!\")\n",
        "        else:\n",
        "            print(\"Essa moto não foi alugada ou não existe.\")\n",
        "        self.conn.commit()\n",
        "\n",
        "# Criando uma instância da locadora de motos\n",
        "locadora = LocadoraMotos(\"motos.db\")\n",
        "\n",
        "# Adicionando algumas motos\n",
        "locadora.adicionar_moto(\"Honda\", \"CBR 600\", 2019)\n",
        "locadora.adicionar_moto(\"Yamaha\", \"YZF R1\", 2020)\n",
        "locadora.adicionar_moto(\"Kawasaki\", \"Ninja 650\", 2021)\n",
        "\n",
        "# Exibindo motos disponíveis\n",
        "locadora.mostrar_motos_disponiveis()\n",
        "\n",
        "# Alugando uma moto\n",
        "locadora.alugar_moto(2)\n",
        "\n",
        "# Verificando motos alugadas\n",
        "locadora.verificar_motos_alugadas()\n",
        "\n",
        "# Devolvendo a moto alugada\n",
        "locadora.devolver_moto(2)\n",
        "\n",
        "# Exibindo motos disponíveis após devolução\n",
        "locadora.mostrar_motos_disponiveis()\n",
        "\n",
        "# Fechando a conexão com o banco de dados\n",
        "locadora.conn.close()"
      ],
      "metadata": {
        "colab": {
          "base_uri": "https://localhost:8080/"
        },
        "id": "3ZYKBT-QmN_h",
        "outputId": "152852e6-52dc-4ee7-de0d-5ff324b2c042"
      },
      "execution_count": 4,
      "outputs": [
        {
          "output_type": "stream",
          "name": "stdout",
          "text": [
            "Motos disponíveis para aluguel:\n",
            "ID: 1, Marca: Honda, Modelo: CBR 600, Ano: 2019\n",
            "ID: 2, Marca: Yamaha, Modelo: YZF R1, Ano: 2020\n",
            "ID: 3, Marca: Kawasaki, Modelo: Ninja 650, Ano: 2021\n",
            "Moto alugada com sucesso!\n",
            "Motos alugadas:\n",
            "ID: 2, Marca: Yamaha, Modelo: YZF R1, Ano: 2020\n",
            "Moto devolvida com sucesso!\n",
            "Motos disponíveis para aluguel:\n",
            "ID: 1, Marca: Honda, Modelo: CBR 600, Ano: 2019\n",
            "ID: 2, Marca: Yamaha, Modelo: YZF R1, Ano: 2020\n",
            "ID: 3, Marca: Kawasaki, Modelo: Ninja 650, Ano: 2021\n"
          ]
        }
      ]
    }
  ]
}