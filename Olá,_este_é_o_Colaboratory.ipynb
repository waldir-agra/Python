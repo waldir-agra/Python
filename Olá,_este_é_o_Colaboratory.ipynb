{
  "cells": [
    {
      "cell_type": "markdown",
      "metadata": {
        "id": "view-in-github",
        "colab_type": "text"
      },
      "source": [
        "<a href=\"https://colab.research.google.com/github/waldir-agra/Python/blob/main/Ol%C3%A1%2C_este_%C3%A9_o_Colaboratory.ipynb\" target=\"_parent\"><img src=\"https://colab.research.google.com/assets/colab-badge.svg\" alt=\"Open In Colab\"/></a>"
      ]
    },
    {
      "cell_type": "code",
      "source": [
        "#calendario\n",
        "\n",
        "from calendar import*\n",
        "year = int(input('Digite o Ano: '))\n",
        "print(calendar(year, 2, 1, 8, 3))"
      ],
      "metadata": {
        "id": "CWdEnyfDSbep",
        "outputId": "684c5e01-107e-459b-8b54-8fc0120a597f",
        "colab": {
          "base_uri": "https://localhost:8080/"
        }
      },
      "execution_count": 3,
      "outputs": [
        {
          "output_type": "stream",
          "name": "stdout",
          "text": [
            "Digite o Ano: 1986\n",
            "                                    1986\n",
            "\n",
            "      January                     February                     March\n",
            "Mo Tu We Th Fr Sa Su        Mo Tu We Th Fr Sa Su        Mo Tu We Th Fr Sa Su\n",
            "       1  2  3  4  5                        1  2                        1  2\n",
            " 6  7  8  9 10 11 12         3  4  5  6  7  8  9         3  4  5  6  7  8  9\n",
            "13 14 15 16 17 18 19        10 11 12 13 14 15 16        10 11 12 13 14 15 16\n",
            "20 21 22 23 24 25 26        17 18 19 20 21 22 23        17 18 19 20 21 22 23\n",
            "27 28 29 30 31              24 25 26 27 28              24 25 26 27 28 29 30\n",
            "                                                        31\n",
            "\n",
            "       April                        May                         June\n",
            "Mo Tu We Th Fr Sa Su        Mo Tu We Th Fr Sa Su        Mo Tu We Th Fr Sa Su\n",
            "    1  2  3  4  5  6                  1  2  3  4                           1\n",
            " 7  8  9 10 11 12 13         5  6  7  8  9 10 11         2  3  4  5  6  7  8\n",
            "14 15 16 17 18 19 20        12 13 14 15 16 17 18         9 10 11 12 13 14 15\n",
            "21 22 23 24 25 26 27        19 20 21 22 23 24 25        16 17 18 19 20 21 22\n",
            "28 29 30                    26 27 28 29 30 31           23 24 25 26 27 28 29\n",
            "                                                        30\n",
            "\n",
            "        July                       August                    September\n",
            "Mo Tu We Th Fr Sa Su        Mo Tu We Th Fr Sa Su        Mo Tu We Th Fr Sa Su\n",
            "    1  2  3  4  5  6                     1  2  3         1  2  3  4  5  6  7\n",
            " 7  8  9 10 11 12 13         4  5  6  7  8  9 10         8  9 10 11 12 13 14\n",
            "14 15 16 17 18 19 20        11 12 13 14 15 16 17        15 16 17 18 19 20 21\n",
            "21 22 23 24 25 26 27        18 19 20 21 22 23 24        22 23 24 25 26 27 28\n",
            "28 29 30 31                 25 26 27 28 29 30 31        29 30\n",
            "\n",
            "      October                     November                    December\n",
            "Mo Tu We Th Fr Sa Su        Mo Tu We Th Fr Sa Su        Mo Tu We Th Fr Sa Su\n",
            "       1  2  3  4  5                        1  2         1  2  3  4  5  6  7\n",
            " 6  7  8  9 10 11 12         3  4  5  6  7  8  9         8  9 10 11 12 13 14\n",
            "13 14 15 16 17 18 19        10 11 12 13 14 15 16        15 16 17 18 19 20 21\n",
            "20 21 22 23 24 25 26        17 18 19 20 21 22 23        22 23 24 25 26 27 28\n",
            "27 28 29 30 31              24 25 26 27 28 29 30        29 30 31\n",
            "\n"
          ]
        }
      ]
    }
  ],
  "metadata": {
    "colab": {
      "name": "Olá, este é o Colaboratory",
      "provenance": [],
      "include_colab_link": true
    },
    "kernelspec": {
      "display_name": "Python 3",
      "name": "python3"
    }
  },
  "nbformat": 4,
  "nbformat_minor": 0
}