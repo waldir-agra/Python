{
  "cells": [
    {
      "cell_type": "markdown",
      "metadata": {
        "id": "view-in-github",
        "colab_type": "text"
      },
      "source": [
        "<a href=\"https://colab.research.google.com/github/waldir-agra/Python/blob/main/Ol%C3%A1%2C_este_%C3%A9_o_Colaboratory.ipynb\" target=\"_parent\"><img src=\"https://colab.research.google.com/assets/colab-badge.svg\" alt=\"Open In Colab\"/></a>"
      ]
    },
    {
      "cell_type": "code",
      "source": [
        "''' Crie um sistema de média escolar onde se o aluno tirar nota\n",
        "Abaixo de 4 está reprovado, se tirar 4 pode fazer uma prova de recuperação\n",
        "e se tirar 6 ou acima está aprovado '''\n",
        "\n",
        "nome = input('Digite o seu nome: ')\n",
        "nota1 = (float)(input('Digite sua primeira nota: '))\n",
        "nota2 = (float)(input('Digite sua segunda nota: '))\n",
        "\n",
        "media = (nota1 + nota2) /2\n",
        "if media < 4 :\n",
        " print(nome,\",Sua nota foi menor que 4 você foi reprovado!: \")\n",
        "elif media == 4 :\n",
        " print(nome,\",Sua nota foi \",media,\"Você poderá fazer uma nova prova de recuperão!\")\n",
        "else :\n",
        " print(nome,\",Sua media foi\",media,\",Você foi aprovado!!!\")\n",
        "\n",
        "\n"
      ],
      "metadata": {
        "id": "j8k1YSihCnLX"
      },
      "execution_count": null,
      "outputs": []
    }
  ],
  "metadata": {
    "colab": {
      "name": "Olá, este é o Colaboratory",
      "provenance": [],
      "include_colab_link": true
    },
    "kernelspec": {
      "display_name": "Python 3",
      "name": "python3"
    }
  },
  "nbformat": 4,
  "nbformat_minor": 0
}