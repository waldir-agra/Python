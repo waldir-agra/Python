{
  "cells": [
    {
      "cell_type": "markdown",
      "metadata": {
        "id": "view-in-github",
        "colab_type": "text"
      },
      "source": [
        "<a href=\"https://colab.research.google.com/github/waldir-agra/Python/blob/main/Ol%C3%A1%2C_este_%C3%A9_o_Colaboratory.ipynb\" target=\"_parent\"><img src=\"https://colab.research.google.com/assets/colab-badge.svg\" alt=\"Open In Colab\"/></a>"
      ]
    },
    {
      "cell_type": "code",
      "source": [
        "#calendar\n",
        "\n",
        "from calendar import*\n",
        "year = int(input('Digite o Ano: '))\n",
        "print(calendar(year, 2, 1, 8, 3))"
      ],
      "metadata": {
        "id": "CWdEnyfDSbep"
      },
      "execution_count": null,
      "outputs": []
    },
    {
      "cell_type": "code",
      "source": [
        "#Captcha Generation using python\n",
        "\n",
        "from captcha.image import ImageCaptcha\n",
        "from PIL import Image\n",
        "def generate_captcha_text(length=6):\n",
        "    import string\n",
        "    import random\n",
        "    return ''.join(random.choices(string.ascii_letter + string.digits, k-length))\n",
        "\n",
        "def generate_and_save_captcha(image_width=300, image_height=100,\n",
        "                              captcha_lenght=6, save_path='CAPTCHA.png'):\n",
        "    image = ImageCaptcha(width=image_width, height=image_height)\n",
        "    captcha_text = generate_captcha_text(captcha_lenght)\n",
        "    data = image.generate(captcha_text)\n",
        "    image.write(captcha_text, save_path)\n",
        "    return captcha_text\n",
        "if __name__ == \"__main__\":\n",
        "    captcha_text = generate_and_save_captcha()\n",
        "    print(\"CAPTCHA text\", captcha_text)\n",
        "Image.open('CAPTCHA.png')\n",
        "\n"
      ],
      "metadata": {
        "id": "fNFP8PesTtP6"
      },
      "execution_count": null,
      "outputs": []
    }
  ],
  "metadata": {
    "colab": {
      "name": "Olá, este é o Colaboratory",
      "provenance": [],
      "include_colab_link": true
    },
    "kernelspec": {
      "display_name": "Python 3",
      "name": "python3"
    }
  },
  "nbformat": 4,
  "nbformat_minor": 0
}