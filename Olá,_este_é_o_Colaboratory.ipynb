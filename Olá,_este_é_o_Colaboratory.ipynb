{
  "cells": [
    {
      "cell_type": "markdown",
      "metadata": {
        "id": "view-in-github",
        "colab_type": "text"
      },
      "source": [
        "<a href=\"https://colab.research.google.com/github/waldir-agra/Python/blob/main/Ol%C3%A1%2C_este_%C3%A9_o_Colaboratory.ipynb\" target=\"_parent\"><img src=\"https://colab.research.google.com/assets/colab-badge.svg\" alt=\"Open In Colab\"/></a>"
      ]
    },
    {
      "cell_type": "code",
      "source": [
        "''' Crie um sistema de média escolar onde se o aluno tirar nota\n",
        "Abaixo de 4 está reprovado, se tirar 4 pode fazer uma prova de recuperação\n",
        "e se tirar 6 ou acima está aprovado '''\n",
        "\n",
        "nome = input('Digite o seu nome: ')\n",
        "nota1 = (float)(input('Digite sua primeira nota: '))\n",
        "nota2 = (float)(input('Digite sua segunda nota: '))\n",
        "\n",
        "media = (nota1 + nota2) /2\n",
        "if media < 4 :\n",
        " print(nome,\",Sua nota foi menor que 4 você foi reprovado!: \")\n",
        "elif media == 4 :\n",
        " print(nome,\",Sua nota foi \",media,\"Você poderá fazer uma nova prova de recuperão!\")\n",
        "else :\n",
        " print(nome,\",Sua media foi\",media,\",Você foi aprovado!!!\")\n",
        "\n",
        "\n"
      ],
      "metadata": {
        "colab": {
          "base_uri": "https://localhost:8080/"
        },
        "id": "j8k1YSihCnLX",
        "outputId": "7741179d-f49c-42bf-eef6-443ff804a3b5"
      },
      "execution_count": 31,
      "outputs": [
        {
          "output_type": "stream",
          "name": "stdout",
          "text": [
            "Digite o seu nome: waldir\n",
            "Digite sua primeira nota: 10\n",
            "Digite sua segunda nota: 10\n",
            "waldir ,Sua media foi 10.0 ,Você foi aprovado!!!\n"
          ]
        }
      ]
    },
    {
      "cell_type": "code",
      "source": [
        "''' Crie um sistema de aprovação de um emprestimo, caso o emprestimo\n",
        "seja menor ou igual a 50% do salário, então o emprestimo será aprovado,\n",
        "caso o emprestimo solicitado seja 75% menor ou igual ao salário a situação\n",
        "ficará em análise e caso não corresponda a nenhuma opção anterior o empréstimo não\n",
        "será aprovado\n",
        "'''\n",
        "emprestimo = (float)(input('Qual o valor que vocÊ deseja contratar?: '))\n",
        "salario = (float)(input('Nossa margem é baseada no valor do seu salário, Qual o valor do seu Salário?: '))\n",
        "\n",
        "\n",
        "if emprestimo <= salario/100*50 :\n",
        "  print('Seu empréstimo foi aprovado!!!')\n",
        "elif emprestimo <= salario/100*75 :\n",
        "  print('Sua situação ficará em análise')\n",
        "else:\n",
        "  print('O emprestimo não será aprovado')\n",
        "\n",
        "\n",
        "\n",
        "\n",
        "\n",
        "\n",
        "\n",
        "\n"
      ],
      "metadata": {
        "colab": {
          "base_uri": "https://localhost:8080/"
        },
        "id": "ESVxOk4Lf3C0",
        "outputId": "ccf7ad53-ce8d-4bf4-c2cb-784f3e7826e2"
      },
      "execution_count": 103,
      "outputs": [
        {
          "output_type": "stream",
          "name": "stdout",
          "text": [
            "Qual o valor que vocÊ deseja contratar?: 100\n",
            "Nossa margem é baseada no valor do seu salário, Qual o valor do seu Salário?: 100\n",
            "O emprestimo não será aprovado\n"
          ]
        }
      ]
    },
    {
      "cell_type": "code",
      "source": [],
      "metadata": {
        "id": "gKkpBAeq_hiP"
      },
      "execution_count": null,
      "outputs": []
    },
    {
      "cell_type": "code",
      "source": [
        "''' Crie uma história onde o usuário possa escolher opções e\n",
        " dependendo das opções escolhidas o personagem terá um desfecho\n",
        " diferente.\n",
        "'''\n",
        "nome = input('Digite seu nome: ')\n",
        "  print('Olá: ',nome,)\n",
        "  print(' Hoje estaremos ')\n",
        "\n",
        "\n",
        "\n",
        "\n",
        "\n"
      ],
      "metadata": {
        "id": "pKJ-ODbS9vnl"
      },
      "execution_count": null,
      "outputs": []
    },
    {
      "cell_type": "code",
      "source": [
        "''' Faça um sistema que diga qual foi o número digitado pelo usuário e se esse número\n",
        "é impar ou par '''\n",
        "\n",
        "num1 = (int)(input('Digite o primeiro numero: '))\n",
        "\n",
        "if num1 % 2 == 0:\n",
        "  print('O número é',num1,', é um numero par!')\n",
        "else:\n",
        "  print('O numero é',num1,', é um numero ímpar!')"
      ],
      "metadata": {
        "id": "WjszVh8p_kNx",
        "outputId": "a8936f19-a059-4324-f645-385827a803b5",
        "colab": {
          "base_uri": "https://localhost:8080/"
        }
      },
      "execution_count": 112,
      "outputs": [
        {
          "output_type": "stream",
          "name": "stdout",
          "text": [
            "Digite o primeiro numero: 10\n",
            "O número é 10 , é um numero par!\n"
          ]
        }
      ]
    }
  ],
  "metadata": {
    "colab": {
      "name": "Olá, este é o Colaboratory",
      "provenance": [],
      "include_colab_link": true
    },
    "kernelspec": {
      "display_name": "Python 3",
      "name": "python3"
    }
  },
  "nbformat": 4,
  "nbformat_minor": 0
}