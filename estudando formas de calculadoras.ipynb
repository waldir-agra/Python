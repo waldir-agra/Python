{
  "cells": [
    {
      "cell_type": "markdown",
      "metadata": {
        "id": "view-in-github",
        "colab_type": "text"
      },
      "source": [
        "<a href=\"https://colab.research.google.com/github/waldir-agra/Python/blob/main/estudando%20formas%20de%20calculadoras.ipynb\" target=\"_parent\"><img src=\"https://colab.research.google.com/assets/colab-badge.svg\" alt=\"Open In Colab\"/></a>"
      ]
    },
    {
      "cell_type": "code",
      "source": [
        "num1 = float(input('Digite o primeiro numero: '))\n",
        "num2 = float(input('Digite o segundo numero: '))\n",
        "\n",
        "soma = num1 + num2\n",
        "subtracao = num1 - num2\n",
        "divisao = num1/num2\n",
        "multiplicacao = num1*num2\n",
        "\n",
        "print('o resuldado para o operação',num1, '+',num2,' É', soma)\n",
        "print('o resuldado para o operação',num1, '-',num2,' É', subtracao)\n",
        "print('o resuldado para o operação',num1, '/',num2,' É', divisao)\n",
        "print('o resuldado para o operação',num1, '*',num2,' É', multiplicacao)"
      ],
      "metadata": {
        "id": "0Ev-6dLHDr6a"
      },
      "execution_count": null,
      "outputs": []
    },
    {
      "cell_type": "code",
      "source": [
        "operation = input('''\n",
        "Please type in the math operation you would like to complete:\n",
        "+ for addition\n",
        "- for subtraction\n",
        "* for multiplication\n",
        "/ for division\n",
        "''')\n",
        "\n",
        "number_1 = int(input('Enter your first number: '))\n",
        "number_2 = int(input('Enter your second number: '))\n",
        "\n",
        "if operation == '+':\n",
        "    print('{} + {} = '.format(number_1, number_2))\n",
        "    print(number_1 + number_2)\n",
        "\n",
        "elif operation == '-':\n",
        "    print('{} - {} = '.format(number_1, number_2))\n",
        "    print(number_1 - number_2)\n",
        "\n",
        "elif operation == '*':\n",
        "    print('{} * {} = '.format(number_1, number_2))\n",
        "    print(number_1 * number_2)\n",
        "\n",
        "elif operation == '/':\n",
        "    print('{} / {} = '.format(number_1, number_2))\n",
        "    print(number_1 / number_2)\n",
        "\n",
        "else:\n",
        "    print('You have not typed a valid operator, please run the program again.')"
      ],
      "metadata": {
        "id": "0b6cjUrBKR-b"
      },
      "execution_count": null,
      "outputs": []
    }
  ],
  "metadata": {
    "colab": {
      "name": "Olá, este é o Colaboratory",
      "toc_visible": true,
      "provenance": [],
      "include_colab_link": true
    },
    "kernelspec": {
      "display_name": "Python 3",
      "name": "python3"
    }
  },
  "nbformat": 4,
  "nbformat_minor": 0
}