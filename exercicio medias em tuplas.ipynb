{
  "nbformat": 4,
  "nbformat_minor": 0,
  "metadata": {
    "colab": {
      "provenance": [],
      "authorship_tag": "ABX9TyPleuTGyEmq8DWxfWM5HTLq",
      "include_colab_link": true
    },
    "kernelspec": {
      "name": "python3",
      "display_name": "Python 3"
    },
    "language_info": {
      "name": "python"
    }
  },
  "cells": [
    {
      "cell_type": "markdown",
      "metadata": {
        "id": "view-in-github",
        "colab_type": "text"
      },
      "source": [
        "<a href=\"https://colab.research.google.com/github/waldir-agra/Python/blob/main/exercicio%20medias%20em%20tuplas.ipynb\" target=\"_parent\"><img src=\"https://colab.research.google.com/assets/colab-badge.svg\" alt=\"Open In Colab\"/></a>"
      ]
    },
    {
      "cell_type": "code",
      "execution_count": null,
      "metadata": {
        "id": "dBkYTzYyrDWX",
        "colab": {
          "base_uri": "https://localhost:8080/"
        },
        "outputId": "fde5ef45-0e01-4116-a824-1780b5cad62c"
      },
      "outputs": [
        {
          "output_type": "stream",
          "name": "stdout",
          "text": [
            "digite nota10\n",
            "digite nota10\n",
            "digite nota10\n",
            "Aprovado\n"
          ]
        }
      ],
      "source": [
        "listaNotas =[]\n",
        "\n",
        "nota1= (float)(input(\"digite nota: \"))\n",
        "nota2= (float)(input(\"digite nota: \"))\n",
        "nota3= (float)(input(\"digite nota: \"))\n",
        "\n",
        "\n",
        "listaNotas.append(nota1)\n",
        "listaNotas.append(nota2)\n",
        "listaNotas.append(nota3)\n",
        "\n",
        "#processamento\n",
        "\n",
        "media = sum(listaNotas)/ 3\n",
        "\n",
        "if(media>=7):\n",
        "  print('Aprovado')\n",
        "\n",
        "else:\n",
        "  print('Reprovado')"
      ]
    }
  ]
}