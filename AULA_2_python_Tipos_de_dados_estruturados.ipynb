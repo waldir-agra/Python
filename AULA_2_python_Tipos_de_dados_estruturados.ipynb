{
  "nbformat": 4,
  "nbformat_minor": 0,
  "metadata": {
    "colab": {
      "provenance": [],
      "include_colab_link": true
    },
    "kernelspec": {
      "name": "python3",
      "display_name": "Python 3"
    },
    "language_info": {
      "name": "python"
    }
  },
  "cells": [
    {
      "cell_type": "markdown",
      "metadata": {
        "id": "view-in-github",
        "colab_type": "text"
      },
      "source": [
        "<a href=\"https://colab.research.google.com/github/waldir-agra/Python/blob/main/AULA_2_python_Tipos_de_dados_estruturados.ipynb\" target=\"_parent\"><img src=\"https://colab.research.google.com/assets/colab-badge.svg\" alt=\"Open In Colab\"/></a>"
      ]
    },
    {
      "cell_type": "markdown",
      "source": [
        "LISTAS:\n"
      ],
      "metadata": {
        "id": "G0kT0ungs7ZT"
      }
    },
    {
      "cell_type": "code",
      "execution_count": null,
      "metadata": {
        "id": "3pSVHOOBpYwi",
        "colab": {
          "base_uri": "https://localhost:8080/"
        },
        "outputId": "d8d1a1ec-85d2-4e34-f5c4-5a3fffc58bdb"
      },
      "outputs": [
        {
          "output_type": "stream",
          "name": "stdout",
          "text": [
            "<class 'list'> [1, '2', 3]\n"
          ]
        }
      ],
      "source": [
        "#declarando uma lista vazia em Python\n",
        "lista1 = []\n",
        "lista1 = [1,\"2\",3] # CRIANDO UMA LISTA\n",
        "print(type(lista1),lista1)"
      ]
    },
    {
      "cell_type": "code",
      "source": [
        "#Declaração explícita de lista\n",
        "lista2 = list((1,\"2\",3))\n",
        "print(lista2)"
      ],
      "metadata": {
        "id": "xQhsluiRtDlp",
        "colab": {
          "base_uri": "https://localhost:8080/"
        },
        "outputId": "e3b6eb9c-087d-4e54-dd76-eff75eea7140"
      },
      "execution_count": null,
      "outputs": [
        {
          "output_type": "stream",
          "name": "stdout",
          "text": [
            "[1, '2', 3]\n"
          ]
        }
      ]
    },
    {
      "cell_type": "code",
      "source": [
        "#Declaração implícita\n",
        "lista3 = [\"C\", 4.65, True, \"True\", \"Vamos Aprender\", [\"outra\", \"lista\", \"interna\"], lista2]\n",
        "print(lista3)"
      ],
      "metadata": {
        "id": "9z2YSwfUtH6t",
        "colab": {
          "base_uri": "https://localhost:8080/"
        },
        "outputId": "ee72f340-3187-42b2-ef18-11b50dd9b07b"
      },
      "execution_count": null,
      "outputs": [
        {
          "output_type": "stream",
          "name": "stdout",
          "text": [
            "['C', 4.65, True, 'True', 'Vamos Aprender', ['outra', 'lista', 'interna'], [1, '2', 3]]\n"
          ]
        }
      ]
    },
    {
      "cell_type": "code",
      "source": [
        "lista4 = [\"primeiro\", \"segundo\", \"terceiro\"]\n",
        "print(lista4)"
      ],
      "metadata": {
        "id": "mkA8_F_mtRKl",
        "colab": {
          "base_uri": "https://localhost:8080/"
        },
        "outputId": "b69cd902-3efe-4a53-e8b7-a3a4c00d940e"
      },
      "execution_count": null,
      "outputs": [
        {
          "output_type": "stream",
          "name": "stdout",
          "text": [
            "['primeiro', 'segundo', 'terceiro']\n"
          ]
        }
      ]
    },
    {
      "cell_type": "code",
      "source": [
        "#acessando um elemento da lista\n",
        "print(lista3)\n",
        "print(lista3[5][0])\n",
        "print(lista3[5]) #ACESSANDO A LISTA DENTRO DA LISTA"
      ],
      "metadata": {
        "id": "-B7UA3f-tarq",
        "colab": {
          "base_uri": "https://localhost:8080/"
        },
        "outputId": "a9cd789f-7863-46aa-d1ca-e4de50ff5adb"
      },
      "execution_count": null,
      "outputs": [
        {
          "output_type": "stream",
          "name": "stdout",
          "text": [
            "['C', 4.65, True, 'True', 'Vamos Aprender', ['outra', 'lista', 'interna'], [1, '2', 3]]\n",
            "outra\n",
            "['outra', 'lista', 'interna']\n"
          ]
        }
      ]
    },
    {
      "cell_type": "code",
      "source": [
        "#fatiando listas\n",
        "#nomeDaLista[start:stop:step]\n",
        "print(lista3)\n",
        "#print(lista3[2:6:2])\n",
        "#print(lista3[:3])\n",
        "#print(lista3[-1:])\n",
        "#print(\"Imprimindo de dois em dois: \", lista3[::2])\n",
        "#print(lista3[: :])\n",
        "#print(lista3)\n",
        "print(len(lista3[5][2]))"
      ],
      "metadata": {
        "id": "bTNALvH4tx9y",
        "colab": {
          "base_uri": "https://localhost:8080/"
        },
        "outputId": "aaa6c066-3967-44ac-9a09-ce4e69f00c19"
      },
      "execution_count": null,
      "outputs": [
        {
          "output_type": "stream",
          "name": "stdout",
          "text": [
            "['C', 4.65, True, 'True', 'Vamos Aprender', ['outra', 'lista', 'interna'], [1, '2', 3]]\n",
            "7\n"
          ]
        }
      ]
    },
    {
      "cell_type": "code",
      "source": [
        "print(lista1)\n",
        "\n",
        "#Adicionando elementos em uma lista\n",
        "lista1.append(\"Python\")\n",
        "lista1.append(\"Java\")\n",
        "lista1.append(\"Php\")\n",
        "lista1.append(\"C#\")\n",
        "\n",
        "print(lista1)"
      ],
      "metadata": {
        "id": "NGr4Kp7LuHwC",
        "colab": {
          "base_uri": "https://localhost:8080/"
        },
        "outputId": "9381dc98-dde4-4620-9d05-089b4eec6e00"
      },
      "execution_count": null,
      "outputs": [
        {
          "output_type": "stream",
          "name": "stdout",
          "text": [
            "[1, '2', 3]\n",
            "[1, '2', 3, 'Python', 'Java', 'Php', 'C#']\n"
          ]
        }
      ]
    },
    {
      "cell_type": "code",
      "source": [
        "#Inserir elementos em uma posição específica\n",
        "lista1.insert(2, \"C++\")\n",
        "print(lista1)"
      ],
      "metadata": {
        "id": "pq99OnUZuaVO",
        "colab": {
          "base_uri": "https://localhost:8080/"
        },
        "outputId": "dd33755d-b125-4f95-da83-a1a6c9313834"
      },
      "execution_count": null,
      "outputs": [
        {
          "output_type": "stream",
          "name": "stdout",
          "text": [
            "[1, '2', 'C++', 3, 'Python', 'Java', 'Php', 'C#']\n"
          ]
        }
      ]
    },
    {
      "cell_type": "code",
      "source": [
        "#Remover um elemento pelo seu valor\n",
        "lista1.append(\"Java\")\n",
        "lista1.append(\"Java\")\n",
        "lista1.remove(\"Java\")\n",
        "print(lista1)"
      ],
      "metadata": {
        "id": "cMHlVA9lugBm",
        "colab": {
          "base_uri": "https://localhost:8080/"
        },
        "outputId": "d0f8382d-cb79-4714-8e8f-31372906ab30"
      },
      "execution_count": null,
      "outputs": [
        {
          "output_type": "stream",
          "name": "stdout",
          "text": [
            "[1, '2', 'C++', 3, 'Python', 'Php', 'C#', 'Java', 'Java']\n"
          ]
        }
      ]
    },
    {
      "cell_type": "code",
      "source": [
        "#Indexação (Pegar um índice de um elemento pelo valor)\n",
        "indice = lista1.index(\"Php\")\n",
        "print(lista1.index(\"Php\"))\n",
        "print(indice)"
      ],
      "metadata": {
        "id": "vu78QCQnukxQ",
        "colab": {
          "base_uri": "https://localhost:8080/"
        },
        "outputId": "5cf1ea0d-a988-4990-d142-9d3f9ee6660d"
      },
      "execution_count": null,
      "outputs": [
        {
          "output_type": "stream",
          "name": "stdout",
          "text": [
            "5\n",
            "5\n"
          ]
        }
      ]
    },
    {
      "cell_type": "code",
      "source": [
        "#Remover um elemento pelo seu indice\n",
        "del(lista1[indice])\n",
        "print(lista1)"
      ],
      "metadata": {
        "id": "eLTiozBvuzI1",
        "colab": {
          "base_uri": "https://localhost:8080/"
        },
        "outputId": "cb559814-cbcf-4ae6-a25a-c788a8b859d0"
      },
      "execution_count": null,
      "outputs": [
        {
          "output_type": "stream",
          "name": "stdout",
          "text": [
            "[1, '2', 'C++', 3, 'Python', 'C#', 'Java', 'Java']\n"
          ]
        }
      ]
    },
    {
      "cell_type": "code",
      "source": [
        "print(\"Lista original: \", lista4)\n",
        "\n",
        "#Invertendo uma lista\n",
        "lista4.reverse()\n",
        "print(\"Lista invertida: \", lista4)\n",
        "\n",
        "#Ordenando uma lista\n",
        "lista4.sort()\n",
        "print(\"Lista Ordenada: \", lista4)"
      ],
      "metadata": {
        "id": "EOSSaLuuu4X3",
        "colab": {
          "base_uri": "https://localhost:8080/"
        },
        "outputId": "8889e1a1-ef18-48ed-bdfb-f93d956aef50"
      },
      "execution_count": null,
      "outputs": [
        {
          "output_type": "stream",
          "name": "stdout",
          "text": [
            "Lista original:  ['primeiro', 'segundo', 'terceiro']\n",
            "Lista invertida:  ['terceiro', 'segundo', 'primeiro']\n",
            "Lista Ordenada:  ['primeiro', 'segundo', 'terceiro']\n"
          ]
        }
      ]
    },
    {
      "cell_type": "code",
      "source": [
        "#comprimento de uma lista\n",
        "print(lista1, len(lista1), \" elementos\")\n",
        "print(lista2, len(lista2), \" elementos\")\n",
        "print(lista3, len(lista3), \" elementos\")\n",
        "print(lista4, len(lista4), \" elementos\")"
      ],
      "metadata": {
        "id": "3h9lXDoEu5lQ",
        "colab": {
          "base_uri": "https://localhost:8080/"
        },
        "outputId": "ecb401bb-ad9d-4dbc-f3bc-ca4c4fae5851"
      },
      "execution_count": null,
      "outputs": [
        {
          "output_type": "stream",
          "name": "stdout",
          "text": [
            "[1, '2', 'C++', 3, 'Python', 'C#', 'Java', 'Java'] 8  elementos\n",
            "[1, '2', 3] 3  elementos\n",
            "['C', 4.65, True, 'True', 'Vamos Aprender', ['outra', 'lista', 'interna'], [1, '2', 3]] 7  elementos\n",
            "['primeiro', 'segundo', 'terceiro'] 3  elementos\n"
          ]
        }
      ]
    },
    {
      "cell_type": "code",
      "source": [
        "#Será que é assim que copia uma lista?\n",
        "L = [6,7,5,8,9]\n",
        "V=L\n",
        "print(V)\n",
        "print(L)"
      ],
      "metadata": {
        "id": "sf31T2TNu-rI",
        "colab": {
          "base_uri": "https://localhost:8080/"
        },
        "outputId": "05baf784-b411-4d1f-c56a-2eb4f912a9bd"
      },
      "execution_count": null,
      "outputs": [
        {
          "output_type": "stream",
          "name": "stdout",
          "text": [
            "[6, 7, 5, 8, 9]\n",
            "[6, 7, 5, 8, 9]\n"
          ]
        }
      ]
    },
    {
      "cell_type": "code",
      "source": [
        "# Testando se de fato é uma copia\n",
        "V[0] = -100\n",
        "print(V)\n",
        "print(L)"
      ],
      "metadata": {
        "id": "wOgXE7yjvBwp",
        "colab": {
          "base_uri": "https://localhost:8080/"
        },
        "outputId": "535d6ecd-c5c2-44d0-d26e-a3c91da6a440"
      },
      "execution_count": null,
      "outputs": [
        {
          "output_type": "stream",
          "name": "stdout",
          "text": [
            "[-100, 7, 5, 8, 9]\n",
            "[-100, 7, 5, 8, 9]\n"
          ]
        }
      ]
    },
    {
      "cell_type": "code",
      "source": [
        "#Forma correta de copiar listas\n",
        "L=[6,7,5,8,9]\n",
        "V=L[:]\n",
        "Z=list(L)\n",
        "print(L, V, Z)"
      ],
      "metadata": {
        "id": "bUEd6w_ovOFb",
        "colab": {
          "base_uri": "https://localhost:8080/"
        },
        "outputId": "9f8ac9ba-9113-4ba2-fd6b-52164ba332ee"
      },
      "execution_count": null,
      "outputs": [
        {
          "output_type": "stream",
          "name": "stdout",
          "text": [
            "[6, 7, 5, 8, 9] [6, 7, 5, 8, 9] [6, 7, 5, 8, 9]\n"
          ]
        }
      ]
    },
    {
      "cell_type": "code",
      "source": [
        "V[0]=-100\n",
        "Z[0]=-8\n",
        "print(L,V,Z)"
      ],
      "metadata": {
        "id": "F5CrMUwWwAmN",
        "colab": {
          "base_uri": "https://localhost:8080/"
        },
        "outputId": "82c3f930-899e-4207-82b0-3860a2d80de6"
      },
      "execution_count": null,
      "outputs": [
        {
          "output_type": "stream",
          "name": "stdout",
          "text": [
            "[6, 7, 5, 8, 9] [-100, 7, 5, 8, 9] [-8, 7, 5, 8, 9]\n"
          ]
        }
      ]
    },
    {
      "cell_type": "code",
      "source": [
        "l = [10,20.0]\n",
        "\n",
        "soma = sum(l)\n",
        "\n",
        "print(soma)"
      ],
      "metadata": {
        "id": "z2vKLsQzjViI",
        "colab": {
          "base_uri": "https://localhost:8080/"
        },
        "outputId": "19a25205-f959-42a5-f52c-377f65718ed7"
      },
      "execution_count": null,
      "outputs": [
        {
          "output_type": "stream",
          "name": "stdout",
          "text": [
            "30.0\n"
          ]
        }
      ]
    },
    {
      "cell_type": "markdown",
      "source": [
        "BRINCANDO UM POUCO COM LISTAS:"
      ],
      "metadata": {
        "id": "cRG6ukD42iAj"
      }
    },
    {
      "cell_type": "code",
      "source": [
        "#ENTRADA:\n",
        "lista_notas = []\n",
        "nota1 = float(input('Digite aqui a primeira nota:'))\n",
        "nota2 = float(input('Digite aqui a segunda nota:'))\n",
        "nota3 = float(input('Digite aqui a terceira nota:'))\n",
        "\n",
        "lista_notas.append(nota1)\n",
        "lista_notas.append(nota2)\n",
        "lista_notas.append(nota3)\n",
        "\n",
        "#print(lista_notas)\n",
        "#PROCESSAMENTO:\n",
        "\n",
        "media = sum(lista_notas) / 3\n",
        "\n",
        "# SAÍDA:\n",
        "\n",
        "if (media >= 7):\n",
        "  print(\"O aluno está aprovado!\")\n",
        "else:\n",
        "  print(\"O aluno está reprovado!\")"
      ],
      "metadata": {
        "id": "f8th0kFp2kE0"
      },
      "execution_count": null,
      "outputs": []
    },
    {
      "cell_type": "markdown",
      "source": [
        "TUPLAS:"
      ],
      "metadata": {
        "id": "KqSlFvxCwxEJ"
      }
    },
    {
      "cell_type": "code",
      "source": [
        "#Declarando tuplas\n",
        "tupla1 = (30,30, \"outubro\", 1989)\n",
        "print(type(tupla1))\n",
        "\n",
        "tupla2 = 30,1\n",
        "print(type(tupla2))\n",
        "\n",
        "tupla3 = 1,\n",
        "print(type(tupla3))"
      ],
      "metadata": {
        "id": "kk34--Qywwrf",
        "colab": {
          "base_uri": "https://localhost:8080/"
        },
        "outputId": "a69d8fbe-fa17-4e32-c3cf-58b8cea03e46"
      },
      "execution_count": null,
      "outputs": [
        {
          "output_type": "stream",
          "name": "stdout",
          "text": [
            "<class 'tuple'>\n",
            "<class 'tuple'>\n",
            "<class 'tuple'>\n"
          ]
        }
      ]
    },
    {
      "cell_type": "code",
      "source": [
        "#Contando valores repetidos.\n",
        "print(tupla1.count(30))\n"
      ],
      "metadata": {
        "id": "uw4yy086wqWh",
        "colab": {
          "base_uri": "https://localhost:8080/"
        },
        "outputId": "dab66838-9ad6-488a-f6c1-c45f7b64d91d"
      },
      "execution_count": null,
      "outputs": [
        {
          "output_type": "stream",
          "name": "stdout",
          "text": [
            "2\n"
          ]
        }
      ]
    },
    {
      "cell_type": "code",
      "source": [
        "#Acessando um elemento na tupla\n",
        "print(tupla1[1])\n"
      ],
      "metadata": {
        "id": "hC621uHxxMDg",
        "colab": {
          "base_uri": "https://localhost:8080/"
        },
        "outputId": "a3a744db-843f-4e99-a712-aff0264e6afe"
      },
      "execution_count": null,
      "outputs": [
        {
          "output_type": "stream",
          "name": "stdout",
          "text": [
            "30\n"
          ]
        }
      ]
    },
    {
      "cell_type": "markdown",
      "source": [
        "BRINCANDO COM TUPLAS:"
      ],
      "metadata": {
        "id": "cyBD11mUYURz"
      }
    },
    {
      "cell_type": "code",
      "source": [
        "tupla_teste = ('sa','ba','do')\n",
        "len(tupla_teste[0])\n",
        "\n",
        "if len(tupla_teste[0][0]) >= 2:\n",
        "  print(\"ok\")\n",
        "else:\n",
        "  print(\"Falhou\")"
      ],
      "metadata": {
        "id": "7w4RmgFfvD5S",
        "colab": {
          "base_uri": "https://localhost:8080/"
        },
        "outputId": "a20a7240-f015-4ae3-ffda-fc5ffc98cc54"
      },
      "execution_count": null,
      "outputs": [
        {
          "output_type": "stream",
          "name": "stdout",
          "text": [
            "Falhou\n"
          ]
        }
      ]
    },
    {
      "cell_type": "markdown",
      "source": [
        "Dicionários:"
      ],
      "metadata": {
        "id": "vsaDtW2mxjit"
      }
    },
    {
      "cell_type": "code",
      "source": [
        "#Declarando dicionários\n",
        "dic = {} # criando um dicionário vazio.\n",
        "print(type(dic))\n",
        "dic_pernambuco = {\"Sport\": 41, \"Santa Cruz\": 29, \"Náutico\": 21} # criando um dicionáio com chaves (times) e valores (qtd de titulos )\n",
        "print(dic_pernambuco) # imprimindo o dicionário"
      ],
      "metadata": {
        "id": "LZREEvkQxTtN"
      },
      "execution_count": null,
      "outputs": []
    },
    {
      "cell_type": "code",
      "source": [
        "#Adicionando um elemento no dicionário (chave: valor)\n",
        "dic_pernambuco[\"Salgueiro\"] = 1 # criando uma chave nova (Salgueiro) e adicionando um valor nessa chave (1)\n",
        "print(dic_pernambuco) # imprimir dicionário"
      ],
      "metadata": {
        "id": "Yhg2120hxqM-"
      },
      "execution_count": null,
      "outputs": []
    },
    {
      "cell_type": "code",
      "source": [
        "#Buscando valor com base na chave\n",
        "qtd_titulos = dic_pernambuco.get(\"Sport\") # estou pegando o valor da chave \"Sport\" e armazenando na variável.\n",
        "print(\"O Sport tem\",qtd_titulos,\"titulos\")\n",
        "print(f\"O Sport tem {qtd_titulos} titulos\")\n",
        "print(\"O Sport tem {} titulos\".format(qtd_titulos))"
      ],
      "metadata": {
        "id": "KWsSLfjBxvbC"
      },
      "execution_count": null,
      "outputs": []
    },
    {
      "cell_type": "code",
      "source": [
        "# Formas de interagir com dicionários:\n",
        "\n",
        "D = {\"dados\":[1,2,3,4],\"dados1\":(1,2,3,4),\n",
        "     \"dados2\":{\"valor\":[input(\"digite seu nome:\"),input(\"digite sua idade:\"),input('digite seu cpf:')]}}\n",
        "print(D)\n",
        "\n"
      ],
      "metadata": {
        "id": "mivbO5BuFhFX"
      },
      "execution_count": null,
      "outputs": []
    },
    {
      "cell_type": "code",
      "source": [
        "#Remover um elemento com base na chave\n",
        "\n",
        "print(dic_pernambuco)\n",
        "del dic_pernambuco[\"Salgueiro\"]\n",
        "print(dic_pernambuco)\n",
        "\n"
      ],
      "metadata": {
        "id": "Cq5IobS4x2bw"
      },
      "execution_count": null,
      "outputs": []
    },
    {
      "cell_type": "code",
      "source": [
        "#Remove a chave e retorna seu valor\n",
        "valor = dic_pernambuco.pop(\"Náutico\")\n",
        "print(\"O valor retornado da chave é: \", valor)\n",
        "print(dic_pernambuco)"
      ],
      "metadata": {
        "id": "50z4gaBYW6oH"
      },
      "execution_count": null,
      "outputs": []
    },
    {
      "cell_type": "code",
      "source": [
        "#Verificar se uma chave existe no dicionário\n",
        "print(\"Santa Cruz\" in dic_pernambuco)\n",
        "print(41 in dic_pernambuco.values())"
      ],
      "metadata": {
        "id": "V8Zt6y1py-F0"
      },
      "execution_count": null,
      "outputs": []
    },
    {
      "cell_type": "code",
      "source": [
        "#Pegar todas as chaves do dicionário\n",
        "print(dic_pernambuco.keys())\n",
        "\n",
        "#Pegar todos os valores do dicionário\n",
        "teste = dic_pernambuco.values()\n",
        "print(teste)"
      ],
      "metadata": {
        "id": "eN9mHxkszC_A"
      },
      "execution_count": null,
      "outputs": []
    },
    {
      "cell_type": "code",
      "source": [
        "dic_paulista = {\"Corinthias\": 29, \"Santos\": 22, \"Palmeiras\": 22}\n",
        "\n",
        "#Removendo e retornando último elemento\n",
        "print(dic_paulista.popitem())\n",
        "print(dic_paulista)"
      ],
      "metadata": {
        "id": "E7U0sE4MzF_e"
      },
      "execution_count": null,
      "outputs": []
    },
    {
      "cell_type": "code",
      "source": [
        "#Mesclar dois dicionários\n",
        "dic_pernambuco.update(dic_paulista)\n",
        "print(dic_pernambuco)"
      ],
      "metadata": {
        "id": "-1JdGI3kzJy-"
      },
      "execution_count": null,
      "outputs": []
    },
    {
      "cell_type": "code",
      "source": [
        "#Convertendo um dicionário em uma lista\n",
        "print(list(dic_pernambuco))\n",
        "print(list(dic_pernambuco.values()))"
      ],
      "metadata": {
        "id": "ro6jv_4RzPQ8"
      },
      "execution_count": null,
      "outputs": []
    },
    {
      "cell_type": "markdown",
      "source": [
        "BRINCANDO COM DICIONÁRIOS:"
      ],
      "metadata": {
        "id": "HcfqEh6_XKOu"
      }
    },
    {
      "cell_type": "code",
      "source": [
        "d = {'chaves':222}\n",
        "\n",
        "variavel = d.get('chaves')\n",
        "\n",
        "if 222 in d.values():\n",
        "  print(\"Acesso liberado!\")\n",
        "\n",
        "else:\n",
        "  print(\"Senha errada\")\n"
      ],
      "metadata": {
        "id": "ntNKXgc5fTAn"
      },
      "execution_count": null,
      "outputs": []
    },
    {
      "cell_type": "code",
      "source": [
        "dicionario = {}\n",
        "chave = input(\"Digite a chave\")\n",
        "dicionario[chave] = input(\"Digite aqui um valor\")\n",
        "print(dicionario)\n",
        "\n",
        "\n",
        "\n",
        "if '123' in dicionario.values() :\n",
        "  print(\"Acesso liberado!\")\n",
        "\n",
        "else:\n",
        "  print(\"Senha errada\")"
      ],
      "metadata": {
        "id": "X4WOBsqCDD-5"
      },
      "execution_count": null,
      "outputs": []
    }
  ]
}