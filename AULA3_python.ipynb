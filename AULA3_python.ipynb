{
  "nbformat": 4,
  "nbformat_minor": 0,
  "metadata": {
    "colab": {
      "provenance": [],
      "include_colab_link": true
    },
    "kernelspec": {
      "name": "python3",
      "display_name": "Python 3"
    },
    "language_info": {
      "name": "python"
    }
  },
  "cells": [
    {
      "cell_type": "markdown",
      "metadata": {
        "id": "view-in-github",
        "colab_type": "text"
      },
      "source": [
        "<a href=\"https://colab.research.google.com/github/waldir-agra/Python/blob/main/AULA3_python.ipynb\" target=\"_parent\"><img src=\"https://colab.research.google.com/assets/colab-badge.svg\" alt=\"Open In Colab\"/></a>"
      ]
    },
    {
      "cell_type": "markdown",
      "source": [
        "Range\n"
      ],
      "metadata": {
        "id": "L6yKSvR1kus7"
      }
    },
    {
      "cell_type": "code",
      "execution_count": 4,
      "metadata": {
        "id": "QxbYi1vJkaCt",
        "colab": {
          "base_uri": "https://localhost:8080/"
        },
        "outputId": "c9aec9d3-18fa-4aef-b052-4b4c11f9a3a1"
      },
      "outputs": [
        {
          "output_type": "execute_result",
          "data": {
            "text/plain": [
              "[0, 1, 2, 3, 4, 5, 6, 7, 8, 9]"
            ]
          },
          "metadata": {},
          "execution_count": 4
        }
      ],
      "source": [
        "list(range(0,10,1)) # tipo gerador"
      ]
    },
    {
      "cell_type": "code",
      "source": [
        "list(range(0,12,1)) # usando a função lista para criar uma lista de valores."
      ],
      "metadata": {
        "id": "jjBbesS9k0c0",
        "colab": {
          "base_uri": "https://localhost:8080/"
        },
        "outputId": "9e6c95ac-69c6-4fdf-9a81-211a05c7ed3c"
      },
      "execution_count": 3,
      "outputs": [
        {
          "output_type": "execute_result",
          "data": {
            "text/plain": [
              "[0, 1, 2, 3, 4, 5, 6, 7, 8, 9, 10, 11]"
            ]
          },
          "metadata": {},
          "execution_count": 3
        }
      ]
    },
    {
      "cell_type": "code",
      "source": [
        "list(range(0,10,2))"
      ],
      "metadata": {
        "id": "lUWuy0Ifk9jT",
        "colab": {
          "base_uri": "https://localhost:8080/"
        },
        "outputId": "391734d1-2961-4f21-d70d-7878e778c6f4"
      },
      "execution_count": null,
      "outputs": [
        {
          "output_type": "execute_result",
          "data": {
            "text/plain": [
              "[0, 2, 4, 6, 8]"
            ]
          },
          "metadata": {},
          "execution_count": 4
        }
      ]
    },
    {
      "cell_type": "code",
      "source": [
        "list(range(1,12))"
      ],
      "metadata": {
        "id": "CVU-DeeJlDIl",
        "colab": {
          "base_uri": "https://localhost:8080/"
        },
        "outputId": "83f3df31-6e84-42f2-a8d9-943ea17ba217"
      },
      "execution_count": null,
      "outputs": [
        {
          "output_type": "execute_result",
          "data": {
            "text/plain": [
              "[1, 2, 3, 4, 5, 6, 7, 8, 9, 10, 11]"
            ]
          },
          "metadata": {},
          "execution_count": 4
        }
      ]
    },
    {
      "cell_type": "markdown",
      "source": [
        "FOR:\n",
        "\n",
        "É um laço de repetição que precisa de dados interaveis para por o limite na quantidade de vezes que irá ser feito o loop."
      ],
      "metadata": {
        "id": "R3b9sBHWlGQv"
      }
    },
    {
      "cell_type": "code",
      "source": [
        "for i in range(10):\n",
        "\n",
        "  print(\"Está na posição: {}\".format(i)) # criando um laço de 10 repetições"
      ],
      "metadata": {
        "id": "mgONU9TSlH2u",
        "colab": {
          "base_uri": "https://localhost:8080/"
        },
        "outputId": "baac7c00-38dd-45cd-ba89-228fd9d48dd1"
      },
      "execution_count": 5,
      "outputs": [
        {
          "output_type": "stream",
          "name": "stdout",
          "text": [
            "Está na posição: 0\n",
            "Está na posição: 1\n",
            "Está na posição: 2\n",
            "Está na posição: 3\n",
            "Está na posição: 4\n",
            "Está na posição: 5\n",
            "Está na posição: 6\n",
            "Está na posição: 7\n",
            "Está na posição: 8\n",
            "Está na posição: 9\n"
          ]
        }
      ]
    },
    {
      "cell_type": "code",
      "source": [
        "for i in \"STRING\":\n",
        "  print(\"Está na posição: {}\".format(i)) # criando um laço de repetição com texto"
      ],
      "metadata": {
        "id": "-fAQeYCvlSux",
        "colab": {
          "base_uri": "https://localhost:8080/"
        },
        "outputId": "bbd773f5-9566-4b5d-c661-9630aa344e80"
      },
      "execution_count": 6,
      "outputs": [
        {
          "output_type": "stream",
          "name": "stdout",
          "text": [
            "Está na posição: S\n",
            "Está na posição: T\n",
            "Está na posição: R\n",
            "Está na posição: I\n",
            "Está na posição: N\n",
            "Está na posição: G\n"
          ]
        }
      ]
    },
    {
      "cell_type": "code",
      "source": [
        "for i in range(len(\"STRING\")):\n",
        "  print(\"Está na posição: {}\".format(i)) # criando um laço de repetição com tamanho do texto"
      ],
      "metadata": {
        "id": "5YHEYaKkldIz",
        "colab": {
          "base_uri": "https://localhost:8080/"
        },
        "outputId": "5a4b5e0b-420d-4ceb-82b3-d0118a21d5e4"
      },
      "execution_count": null,
      "outputs": [
        {
          "output_type": "stream",
          "name": "stdout",
          "text": [
            "Está na posição: 0\n",
            "Está na posição: 1\n",
            "Está na posição: 2\n",
            "Está na posição: 3\n",
            "Está na posição: 4\n",
            "Está na posição: 5\n"
          ]
        }
      ]
    },
    {
      "cell_type": "markdown",
      "source": [
        "Vamos brincar um pouquinho... hahaha"
      ],
      "metadata": {
        "id": "m0mBybCLlxg9"
      }
    },
    {
      "cell_type": "code",
      "source": [
        "m = [1,2,3]\n",
        "l = [m,1,2,3]\n",
        "\n",
        "for i in l[0]:\n",
        "  print(\"Você está na posição: {}\".format(i))"
      ],
      "metadata": {
        "id": "2TuEnGyul0rl",
        "colab": {
          "base_uri": "https://localhost:8080/"
        },
        "outputId": "3846ced4-a07e-4c10-d244-a7072160322f"
      },
      "execution_count": 7,
      "outputs": [
        {
          "output_type": "stream",
          "name": "stdout",
          "text": [
            "Você está na posição: 1\n",
            "Você está na posição: 2\n",
            "Você está na posição: 3\n"
          ]
        }
      ]
    },
    {
      "cell_type": "markdown",
      "source": [
        "O que estamos fazendo nesse código:"
      ],
      "metadata": {
        "id": "soKEB4B5mYRC"
      }
    },
    {
      "cell_type": "code",
      "source": [
        "for i in range(1,9):\n",
        "  v = int(input(\"Digite um valor: \"))\n",
        "  if v % 2 == 0:\n",
        "      print(\"{} é par!\".format(v))\n",
        "  else:\n",
        "      print(\"{} é ímpar!\".format(v))"
      ],
      "metadata": {
        "id": "8M1hTbRrmK1J",
        "colab": {
          "base_uri": "https://localhost:8080/",
          "height": 459
        },
        "outputId": "a4a305b1-a107-438c-a390-e98fe8ae5ab4"
      },
      "execution_count": 17,
      "outputs": [
        {
          "output_type": "stream",
          "name": "stdout",
          "text": [
            "Digite um valor: 2\n",
            "2 é par!\n",
            "Digite um valor: 1\n",
            "1 é ímpar!\n"
          ]
        },
        {
          "output_type": "error",
          "ename": "KeyboardInterrupt",
          "evalue": "ignored",
          "traceback": [
            "\u001b[0;31m---------------------------------------------------------------------------\u001b[0m",
            "\u001b[0;31mKeyboardInterrupt\u001b[0m                         Traceback (most recent call last)",
            "\u001b[0;32m<ipython-input-17-f16abd0e4ccd>\u001b[0m in \u001b[0;36m<cell line: 1>\u001b[0;34m()\u001b[0m\n\u001b[1;32m      1\u001b[0m \u001b[0;32mfor\u001b[0m \u001b[0mi\u001b[0m \u001b[0;32min\u001b[0m \u001b[0mrange\u001b[0m\u001b[0;34m(\u001b[0m\u001b[0;36m1\u001b[0m\u001b[0;34m,\u001b[0m\u001b[0;36m9\u001b[0m\u001b[0;34m)\u001b[0m\u001b[0;34m:\u001b[0m\u001b[0;34m\u001b[0m\u001b[0;34m\u001b[0m\u001b[0m\n\u001b[0;32m----> 2\u001b[0;31m   \u001b[0mv\u001b[0m \u001b[0;34m=\u001b[0m \u001b[0mint\u001b[0m\u001b[0;34m(\u001b[0m\u001b[0minput\u001b[0m\u001b[0;34m(\u001b[0m\u001b[0;34m\"Digite um valor: \"\u001b[0m\u001b[0;34m)\u001b[0m\u001b[0;34m)\u001b[0m\u001b[0;34m\u001b[0m\u001b[0;34m\u001b[0m\u001b[0m\n\u001b[0m\u001b[1;32m      3\u001b[0m   \u001b[0;32mif\u001b[0m \u001b[0mv\u001b[0m \u001b[0;34m%\u001b[0m \u001b[0;36m2\u001b[0m \u001b[0;34m==\u001b[0m \u001b[0;36m0\u001b[0m\u001b[0;34m:\u001b[0m\u001b[0;34m\u001b[0m\u001b[0;34m\u001b[0m\u001b[0m\n\u001b[1;32m      4\u001b[0m       \u001b[0mprint\u001b[0m\u001b[0;34m(\u001b[0m\u001b[0;34m\"{} é par!\"\u001b[0m\u001b[0;34m.\u001b[0m\u001b[0mformat\u001b[0m\u001b[0;34m(\u001b[0m\u001b[0mv\u001b[0m\u001b[0;34m)\u001b[0m\u001b[0;34m)\u001b[0m\u001b[0;34m\u001b[0m\u001b[0;34m\u001b[0m\u001b[0m\n\u001b[1;32m      5\u001b[0m   \u001b[0;32melse\u001b[0m\u001b[0;34m:\u001b[0m\u001b[0;34m\u001b[0m\u001b[0;34m\u001b[0m\u001b[0m\n",
            "\u001b[0;32m/usr/local/lib/python3.10/dist-packages/ipykernel/kernelbase.py\u001b[0m in \u001b[0;36mraw_input\u001b[0;34m(self, prompt)\u001b[0m\n\u001b[1;32m    849\u001b[0m                 \u001b[0;34m\"raw_input was called, but this frontend does not support input requests.\"\u001b[0m\u001b[0;34m\u001b[0m\u001b[0;34m\u001b[0m\u001b[0m\n\u001b[1;32m    850\u001b[0m             )\n\u001b[0;32m--> 851\u001b[0;31m         return self._input_request(str(prompt),\n\u001b[0m\u001b[1;32m    852\u001b[0m             \u001b[0mself\u001b[0m\u001b[0;34m.\u001b[0m\u001b[0m_parent_ident\u001b[0m\u001b[0;34m,\u001b[0m\u001b[0;34m\u001b[0m\u001b[0;34m\u001b[0m\u001b[0m\n\u001b[1;32m    853\u001b[0m             \u001b[0mself\u001b[0m\u001b[0;34m.\u001b[0m\u001b[0m_parent_header\u001b[0m\u001b[0;34m,\u001b[0m\u001b[0;34m\u001b[0m\u001b[0;34m\u001b[0m\u001b[0m\n",
            "\u001b[0;32m/usr/local/lib/python3.10/dist-packages/ipykernel/kernelbase.py\u001b[0m in \u001b[0;36m_input_request\u001b[0;34m(self, prompt, ident, parent, password)\u001b[0m\n\u001b[1;32m    893\u001b[0m             \u001b[0;32mexcept\u001b[0m \u001b[0mKeyboardInterrupt\u001b[0m\u001b[0;34m:\u001b[0m\u001b[0;34m\u001b[0m\u001b[0;34m\u001b[0m\u001b[0m\n\u001b[1;32m    894\u001b[0m                 \u001b[0;31m# re-raise KeyboardInterrupt, to truncate traceback\u001b[0m\u001b[0;34m\u001b[0m\u001b[0;34m\u001b[0m\u001b[0m\n\u001b[0;32m--> 895\u001b[0;31m                 \u001b[0;32mraise\u001b[0m \u001b[0mKeyboardInterrupt\u001b[0m\u001b[0;34m(\u001b[0m\u001b[0;34m\"Interrupted by user\"\u001b[0m\u001b[0;34m)\u001b[0m \u001b[0;32mfrom\u001b[0m \u001b[0;32mNone\u001b[0m\u001b[0;34m\u001b[0m\u001b[0;34m\u001b[0m\u001b[0m\n\u001b[0m\u001b[1;32m    896\u001b[0m             \u001b[0;32mexcept\u001b[0m \u001b[0mException\u001b[0m \u001b[0;32mas\u001b[0m \u001b[0me\u001b[0m\u001b[0;34m:\u001b[0m\u001b[0;34m\u001b[0m\u001b[0;34m\u001b[0m\u001b[0m\n\u001b[1;32m    897\u001b[0m                 \u001b[0mself\u001b[0m\u001b[0;34m.\u001b[0m\u001b[0mlog\u001b[0m\u001b[0;34m.\u001b[0m\u001b[0mwarning\u001b[0m\u001b[0;34m(\u001b[0m\u001b[0;34m\"Invalid Message:\"\u001b[0m\u001b[0;34m,\u001b[0m \u001b[0mexc_info\u001b[0m\u001b[0;34m=\u001b[0m\u001b[0;32mTrue\u001b[0m\u001b[0;34m)\u001b[0m\u001b[0;34m\u001b[0m\u001b[0;34m\u001b[0m\u001b[0m\n",
            "\u001b[0;31mKeyboardInterrupt\u001b[0m: Interrupted by user"
          ]
        }
      ]
    },
    {
      "cell_type": "markdown",
      "source": [
        "ENUMERATE:\n",
        "\n",
        "Uma forma interessante de organizar o laço de repetição FOR."
      ],
      "metadata": {
        "id": "k0xruAo7o7qa"
      }
    },
    {
      "cell_type": "code",
      "source": [
        "texto = [\"cadastrar\",\"verificar \",\"acessar o sistema\"]\n",
        "\n",
        "for i , v in enumerate(texto):\n",
        "  print(i,v)\n",
        "\n"
      ],
      "metadata": {
        "id": "92C1urEepCPF"
      },
      "execution_count": null,
      "outputs": []
    },
    {
      "cell_type": "code",
      "source": [
        "lista = [\"VISUALIZAR\",\"SALVAR\",\"SAIR\"]\n",
        "\n",
        "for i, v in enumerate(lista):\n",
        "  print(f\"[{i}] - {v}\")"
      ],
      "metadata": {
        "id": "POti9cSDpEgh",
        "colab": {
          "base_uri": "https://localhost:8080/"
        },
        "outputId": "4e474204-6aa0-45f5-bef7-bd0adb6a8873"
      },
      "execution_count": null,
      "outputs": [
        {
          "output_type": "stream",
          "name": "stdout",
          "text": [
            "[0] - VISUALIZAR\n",
            "[1] - SALVAR\n",
            "[2] - SAIR\n"
          ]
        }
      ]
    },
    {
      "cell_type": "markdown",
      "source": [
        "While:\n",
        "\n",
        "É um laço de repetição que funciona através de valores boleanos ou seja enquanto verdade irá continuar repetindo o laço."
      ],
      "metadata": {
        "id": "kCnsdDflmhXV"
      }
    },
    {
      "cell_type": "code",
      "source": [
        "x = 0\n",
        "while x <= 10:\n",
        "  print(\"O valor de x é: {}\".format(x))\n",
        "  #x = x + 1\n",
        "  x += 1"
      ],
      "metadata": {
        "id": "-JTe88iTmq8i",
        "colab": {
          "base_uri": "https://localhost:8080/"
        },
        "outputId": "d82b4f72-d0b5-492e-a3eb-aca3c055cd3e"
      },
      "execution_count": null,
      "outputs": [
        {
          "output_type": "stream",
          "name": "stdout",
          "text": [
            "O valor de x é: 0\n",
            "O valor de x é: 1\n",
            "O valor de x é: 2\n",
            "O valor de x é: 3\n",
            "O valor de x é: 4\n",
            "O valor de x é: 5\n",
            "O valor de x é: 6\n",
            "O valor de x é: 7\n",
            "O valor de x é: 8\n",
            "O valor de x é: 9\n",
            "O valor de x é: 10\n"
          ]
        }
      ]
    },
    {
      "cell_type": "code",
      "source": [
        "x = 0\n",
        "while x < 10:\n",
        "  print(\"O valor de x é: {}\".format(x))\n",
        "  print(f\"{x} ainda é menor que 10, incrementando...\")\n",
        "  #x = x + 1\n",
        "  x += 1\n",
        "else:\n",
        "  print(\"Concluíndo\")"
      ],
      "metadata": {
        "id": "ZnruBejRny4u"
      },
      "execution_count": null,
      "outputs": []
    },
    {
      "cell_type": "markdown",
      "source": [
        "Determinando fluxo do laço de repetição WHILE com CONTINUE e com BREAK:"
      ],
      "metadata": {
        "id": "opX2YKiun5IO"
      }
    },
    {
      "cell_type": "code",
      "source": [
        "x = 0\n",
        "while x < 10:\n",
        "  print(\"O valor de x é: {}\".format(x))\n",
        "  x += 1\n",
        "  continue # faz com que a linha abaixo dele não seja executada porém não interrompe o laço.\n",
        "  print(\"X ainda é menor que 10, incrementando...\")\n",
        "else:\n",
        "  print(\"Concluíndo\")"
      ],
      "metadata": {
        "id": "gTB4ZM1ooBB0"
      },
      "execution_count": null,
      "outputs": []
    },
    {
      "cell_type": "code",
      "source": [
        "x = 0\n",
        "while x < 10:\n",
        "  print(\"O valor de x é: {}\".format(x))\n",
        "  x += 1\n",
        "  print(\"X ainda é maior que 10, incrementando...\")\n",
        "  break # quebra o laço de repetição.\n",
        "print(\"Quebra de laço\")"
      ],
      "metadata": {
        "id": "6Al42VOZoVO2",
        "colab": {
          "base_uri": "https://localhost:8080/"
        },
        "outputId": "12b5417a-6230-4ea4-a01a-c36349cfacf4"
      },
      "execution_count": null,
      "outputs": [
        {
          "output_type": "stream",
          "name": "stdout",
          "text": [
            "O valor de x é: 0\n",
            "X ainda é maior que 10, incrementando...\n",
            "Quebra de laço\n"
          ]
        }
      ]
    },
    {
      "cell_type": "markdown",
      "source": [
        "Brincando com o WHILE:"
      ],
      "metadata": {
        "id": "Ud7G6FhZojh7"
      }
    },
    {
      "cell_type": "code",
      "source": [
        "x = 0\n",
        "while x <= 10:\n",
        "  if x % 2 == 0:\n",
        "    print(\"{} é par!\".format(x))\n",
        "  else:\n",
        "    print(\"{} é ímpar!\".format(x))\n",
        "  x += 1"
      ],
      "metadata": {
        "id": "qH4S-GwDogS-"
      },
      "execution_count": null,
      "outputs": []
    },
    {
      "cell_type": "markdown",
      "source": [
        "Criando um menu interativo:"
      ],
      "metadata": {
        "id": "B86vWWKForoq"
      }
    },
    {
      "cell_type": "code",
      "source": [
        "while True:\n",
        "  c = input(\"Digite 1 para parar | Digite 0 para continuar: \")\n",
        "  if c =='1':\n",
        "    print(\"fechando..\")\n",
        "    break\n",
        "  elif c == '0':\n",
        "    print(\"Repetindo...\")\n",
        "\n",
        "  else:\n",
        "    print(\"Você não digitou um comando correto!\")"
      ],
      "metadata": {
        "id": "xaaQLQA2ouye"
      },
      "execution_count": null,
      "outputs": []
    }
  ]
}