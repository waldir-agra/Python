{
  "cells": [
    {
      "cell_type": "markdown",
      "metadata": {
        "id": "view-in-github",
        "colab_type": "text"
      },
      "source": [
        "<a href=\"https://colab.research.google.com/github/waldir-agra/Python/blob/main/verificardor_palindromo.ipynb\" target=\"_parent\"><img src=\"https://colab.research.google.com/assets/colab-badge.svg\" alt=\"Open In Colab\"/></a>"
      ]
    },
    {
      "cell_type": "code",
      "source": [
        "def verificar_Palavra(palavra):\n",
        "    teste_Palavra = False\n",
        "\n",
        "    palavra_Invertida = palavra[::-1]\n",
        "\n",
        "    if(palavra == palavra_Invertida):\n",
        "      teste_Palavra = True\n",
        "\n",
        "    return teste_Palavra\n",
        "teste=\"ana\"\n",
        "\n",
        "print(verificar_Palavra(teste))"
      ],
      "metadata": {
        "id": "B3E899FTYtcK",
        "outputId": "a03f8545-de33-4e80-8b7f-b5be64700d07",
        "colab": {
          "base_uri": "https://localhost:8080/"
        }
      },
      "execution_count": 14,
      "outputs": [
        {
          "output_type": "stream",
          "name": "stdout",
          "text": [
            "True\n"
          ]
        }
      ]
    }
  ],
  "metadata": {
    "colab": {
      "name": "Olá, este é o Colaboratory",
      "toc_visible": true,
      "provenance": [],
      "include_colab_link": true
    },
    "kernelspec": {
      "display_name": "Python 3",
      "name": "python3"
    }
  },
  "nbformat": 4,
  "nbformat_minor": 0
}