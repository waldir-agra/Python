{
  "cells": [
    {
      "cell_type": "markdown",
      "metadata": {
        "id": "view-in-github",
        "colab_type": "text"
      },
      "source": [
        "<a href=\"https://colab.research.google.com/github/waldir-agra/Python/blob/main/exerciciolistacommedias.ipynb\" target=\"_parent\"><img src=\"https://colab.research.google.com/assets/colab-badge.svg\" alt=\"Open In Colab\"/></a>"
      ]
    },
    {
      "cell_type": "markdown",
      "source": [
        "# Nova seção"
      ],
      "metadata": {
        "id": "l8YZ3EiO7M3W"
      }
    },
    {
      "cell_type": "code",
      "source": [
        "listaNotas =[]\n",
        "\n",
        "nota1= (float)(input(\"digite nota\"))\n",
        "nota2= (float)(input(\"digite nota\"))\n",
        "nota3= (float)(input(\"digite nota\"))\n",
        "\n",
        "\n",
        "listaNotas.append(nota1)\n",
        "listaNotas.append(nota2)\n",
        "listaNotas.append(nota3)\n",
        "\n",
        "#processamento\n",
        "\n",
        "media = sum(listaNotas)/ 3\n",
        "\n",
        "if(media>=7):\n",
        "  print('Aprovado')\n",
        "\n",
        "else:\n",
        "  print('Reprovado')"
      ],
      "metadata": {
        "colab": {
          "base_uri": "https://localhost:8080/"
        },
        "id": "Td4-JLBlJSPC",
        "outputId": "17fd5cf0-25b5-45f7-dd6d-877e63ad35c5"
      },
      "execution_count": 30,
      "outputs": [
        {
          "output_type": "stream",
          "name": "stdout",
          "text": [
            "digite nota10\n",
            "digite nota7\n",
            "digite nota8\n",
            "Aprovado\n"
          ]
        }
      ]
    }
  ],
  "metadata": {
    "colab": {
      "name": "Olá, este é o Colaboratory",
      "provenance": [],
      "include_colab_link": true
    },
    "kernelspec": {
      "display_name": "Python 3",
      "name": "python3"
    }
  },
  "nbformat": 4,
  "nbformat_minor": 0
}